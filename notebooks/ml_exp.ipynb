{
 "cells": [
  {
   "cell_type": "markdown",
   "metadata": {},
   "source": [
    "### Developying machine learning model for time series forecast"
   ]
  },
  {
   "cell_type": "code",
   "execution_count": 1,
   "metadata": {},
   "outputs": [],
   "source": [
    "import pandas as pd\n",
    "import numpy as np\n",
    "\n",
    "import matplotlib.pyplot as plt"
   ]
  },
  {
   "cell_type": "code",
   "execution_count": 2,
   "metadata": {},
   "outputs": [],
   "source": [
    "features = pd.read_csv('../data/raw/features_data_set.csv')\n",
    "sales = pd.read_csv('../data/raw/sales_data_set.csv')\n",
    "stores = pd.read_csv('../data/raw/stores_data_set.csv')"
   ]
  },
  {
   "cell_type": "code",
   "execution_count": 3,
   "metadata": {},
   "outputs": [],
   "source": [
    "sales['Date'] = pd.to_datetime(sales.Date, dayfirst=True)\n",
    "sales = sales.sort_values(by=['Date'], ascending=True)\n",
    "\n",
    "features['Date'] = pd.to_datetime(features.Date, dayfirst=True)\n",
    "features = features.sort_values(by=['Date'], ascending=True)\n",
    "\n",
    "sales['Date'] = pd.to_datetime(sales.Date, dayfirst=True)\n",
    "sales = sales.sort_values(by=['Date'], ascending=True)"
   ]
  },
  {
   "cell_type": "code",
   "execution_count": 4,
   "metadata": {},
   "outputs": [],
   "source": [
    "type_store = {row.Store:row.Type for _,row in stores.iterrows()}"
   ]
  },
  {
   "cell_type": "code",
   "execution_count": 5,
   "metadata": {},
   "outputs": [],
   "source": [
    "sales_store_grouped = (sales[['Store','Weekly_Sales','Date']].groupby(['Store','Date']).agg({'Weekly_Sales':'sum'})\n",
    "                       .reset_index())"
   ]
  },
  {
   "cell_type": "code",
   "execution_count": 6,
   "metadata": {},
   "outputs": [],
   "source": [
    "new_dataset = pd.merge(sales_store_grouped, features, on=['Store','Date'], how='inner')"
   ]
  },
  {
   "cell_type": "code",
   "execution_count": 7,
   "metadata": {},
   "outputs": [],
   "source": [
    "new_dataset = new_dataset.drop(columns=['MarkDown1','MarkDown2',\n",
    "                                        'MarkDown3','MarkDown4','MarkDown5'])\n",
    "\n",
    "new_dataset['IsHoliday'] = new_dataset['IsHoliday']*1"
   ]
  },
  {
   "cell_type": "code",
   "execution_count": 8,
   "metadata": {},
   "outputs": [],
   "source": [
    "new_dataset['Type'] = new_dataset.Store.map(type_store)\n",
    "\n",
    "new_dataset['Type'] = new_dataset.Type.map({'A':0,\n",
    "                                            'B':1,\n",
    "                                            'C':2})"
   ]
  },
  {
   "cell_type": "code",
   "execution_count": 9,
   "metadata": {},
   "outputs": [],
   "source": [
    "from darts.timeseries import TimeSeries"
   ]
  },
  {
   "cell_type": "markdown",
   "metadata": {},
   "source": [
    "Feature engineering"
   ]
  },
  {
   "cell_type": "code",
   "execution_count": 10,
   "metadata": {},
   "outputs": [],
   "source": [
    "new_dataset['ma1_sales'] = new_dataset.Weekly_Sales.rolling(window=2).mean()\n",
    "new_dataset['ma2_sales'] = new_dataset.Weekly_Sales.rolling(window=3).mean()\n",
    "new_dataset['ma5_sales'] = new_dataset.Weekly_Sales.rolling(window=5).mean()\n",
    "new_dataset['std_sales'] = new_dataset.Weekly_Sales.rolling(window=2).std()\n",
    "\n",
    "new_dataset['month'] = new_dataset.Date.dt.month\n",
    "new_dataset['day'] = new_dataset.Date.dt.day\n",
    "new_dataset['year'] = new_dataset.Date.dt.year\n"
   ]
  },
  {
   "cell_type": "code",
   "execution_count": 11,
   "metadata": {},
   "outputs": [],
   "source": [
    "new_dataset = new_dataset.dropna()"
   ]
  },
  {
   "cell_type": "code",
   "execution_count": 12,
   "metadata": {},
   "outputs": [
    {
     "data": {
      "text/html": [
       "<div>\n",
       "<style scoped>\n",
       "    .dataframe tbody tr th:only-of-type {\n",
       "        vertical-align: middle;\n",
       "    }\n",
       "\n",
       "    .dataframe tbody tr th {\n",
       "        vertical-align: top;\n",
       "    }\n",
       "\n",
       "    .dataframe thead th {\n",
       "        text-align: right;\n",
       "    }\n",
       "</style>\n",
       "<table border=\"1\" class=\"dataframe\">\n",
       "  <thead>\n",
       "    <tr style=\"text-align: right;\">\n",
       "      <th></th>\n",
       "      <th>Store</th>\n",
       "      <th>Date</th>\n",
       "      <th>Weekly_Sales</th>\n",
       "      <th>Temperature</th>\n",
       "      <th>Fuel_Price</th>\n",
       "      <th>CPI</th>\n",
       "      <th>Unemployment</th>\n",
       "      <th>IsHoliday</th>\n",
       "      <th>Type</th>\n",
       "      <th>ma1_sales</th>\n",
       "      <th>ma2_sales</th>\n",
       "      <th>ma5_sales</th>\n",
       "      <th>std_sales</th>\n",
       "      <th>month</th>\n",
       "      <th>day</th>\n",
       "      <th>year</th>\n",
       "    </tr>\n",
       "  </thead>\n",
       "  <tbody>\n",
       "    <tr>\n",
       "      <th>4</th>\n",
       "      <td>1</td>\n",
       "      <td>2010-03-05</td>\n",
       "      <td>1554806.68</td>\n",
       "      <td>46.50</td>\n",
       "      <td>2.625</td>\n",
       "      <td>211.350143</td>\n",
       "      <td>8.106</td>\n",
       "      <td>0</td>\n",
       "      <td>0</td>\n",
       "      <td>1482267.135</td>\n",
       "      <td>1.525501e+06</td>\n",
       "      <td>1572430.156</td>\n",
       "      <td>102586.408347</td>\n",
       "      <td>3</td>\n",
       "      <td>5</td>\n",
       "      <td>2010</td>\n",
       "    </tr>\n",
       "    <tr>\n",
       "      <th>5</th>\n",
       "      <td>1</td>\n",
       "      <td>2010-03-12</td>\n",
       "      <td>1439541.59</td>\n",
       "      <td>57.79</td>\n",
       "      <td>2.667</td>\n",
       "      <td>211.380643</td>\n",
       "      <td>8.106</td>\n",
       "      <td>0</td>\n",
       "      <td>0</td>\n",
       "      <td>1497174.135</td>\n",
       "      <td>1.468025e+06</td>\n",
       "      <td>1531600.294</td>\n",
       "      <td>81504.726773</td>\n",
       "      <td>3</td>\n",
       "      <td>12</td>\n",
       "      <td>2010</td>\n",
       "    </tr>\n",
       "    <tr>\n",
       "      <th>6</th>\n",
       "      <td>1</td>\n",
       "      <td>2010-03-19</td>\n",
       "      <td>1472515.79</td>\n",
       "      <td>54.58</td>\n",
       "      <td>2.720</td>\n",
       "      <td>211.215635</td>\n",
       "      <td>8.106</td>\n",
       "      <td>0</td>\n",
       "      <td>0</td>\n",
       "      <td>1456028.690</td>\n",
       "      <td>1.488955e+06</td>\n",
       "      <td>1497711.964</td>\n",
       "      <td>23316.280424</td>\n",
       "      <td>3</td>\n",
       "      <td>19</td>\n",
       "      <td>2010</td>\n",
       "    </tr>\n",
       "    <tr>\n",
       "      <th>7</th>\n",
       "      <td>1</td>\n",
       "      <td>2010-03-26</td>\n",
       "      <td>1404429.92</td>\n",
       "      <td>51.45</td>\n",
       "      <td>2.732</td>\n",
       "      <td>211.018042</td>\n",
       "      <td>8.106</td>\n",
       "      <td>0</td>\n",
       "      <td>0</td>\n",
       "      <td>1438472.855</td>\n",
       "      <td>1.438829e+06</td>\n",
       "      <td>1456204.314</td>\n",
       "      <td>48143.980380</td>\n",
       "      <td>3</td>\n",
       "      <td>26</td>\n",
       "      <td>2010</td>\n",
       "    </tr>\n",
       "    <tr>\n",
       "      <th>8</th>\n",
       "      <td>1</td>\n",
       "      <td>2010-04-02</td>\n",
       "      <td>1594968.28</td>\n",
       "      <td>62.27</td>\n",
       "      <td>2.719</td>\n",
       "      <td>210.820450</td>\n",
       "      <td>7.808</td>\n",
       "      <td>0</td>\n",
       "      <td>0</td>\n",
       "      <td>1499699.100</td>\n",
       "      <td>1.490638e+06</td>\n",
       "      <td>1493252.452</td>\n",
       "      <td>134730.966432</td>\n",
       "      <td>4</td>\n",
       "      <td>2</td>\n",
       "      <td>2010</td>\n",
       "    </tr>\n",
       "    <tr>\n",
       "      <th>...</th>\n",
       "      <td>...</td>\n",
       "      <td>...</td>\n",
       "      <td>...</td>\n",
       "      <td>...</td>\n",
       "      <td>...</td>\n",
       "      <td>...</td>\n",
       "      <td>...</td>\n",
       "      <td>...</td>\n",
       "      <td>...</td>\n",
       "      <td>...</td>\n",
       "      <td>...</td>\n",
       "      <td>...</td>\n",
       "      <td>...</td>\n",
       "      <td>...</td>\n",
       "      <td>...</td>\n",
       "      <td>...</td>\n",
       "    </tr>\n",
       "    <tr>\n",
       "      <th>6430</th>\n",
       "      <td>45</td>\n",
       "      <td>2012-09-28</td>\n",
       "      <td>713173.95</td>\n",
       "      <td>64.88</td>\n",
       "      <td>3.997</td>\n",
       "      <td>192.013558</td>\n",
       "      <td>8.684</td>\n",
       "      <td>0</td>\n",
       "      <td>1</td>\n",
       "      <td>718130.075</td>\n",
       "      <td>7.128328e+05</td>\n",
       "      <td>727861.790</td>\n",
       "      <td>7009.019187</td>\n",
       "      <td>9</td>\n",
       "      <td>28</td>\n",
       "      <td>2012</td>\n",
       "    </tr>\n",
       "    <tr>\n",
       "      <th>6431</th>\n",
       "      <td>45</td>\n",
       "      <td>2012-10-05</td>\n",
       "      <td>733455.07</td>\n",
       "      <td>64.89</td>\n",
       "      <td>3.985</td>\n",
       "      <td>192.170412</td>\n",
       "      <td>8.667</td>\n",
       "      <td>0</td>\n",
       "      <td>1</td>\n",
       "      <td>723314.510</td>\n",
       "      <td>7.232384e+05</td>\n",
       "      <td>727693.230</td>\n",
       "      <td>14340.917480</td>\n",
       "      <td>10</td>\n",
       "      <td>5</td>\n",
       "      <td>2012</td>\n",
       "    </tr>\n",
       "    <tr>\n",
       "      <th>6432</th>\n",
       "      <td>45</td>\n",
       "      <td>2012-10-12</td>\n",
       "      <td>734464.36</td>\n",
       "      <td>54.47</td>\n",
       "      <td>4.000</td>\n",
       "      <td>192.327265</td>\n",
       "      <td>8.667</td>\n",
       "      <td>0</td>\n",
       "      <td>1</td>\n",
       "      <td>733959.715</td>\n",
       "      <td>7.270311e+05</td>\n",
       "      <td>721283.570</td>\n",
       "      <td>713.675761</td>\n",
       "      <td>10</td>\n",
       "      <td>12</td>\n",
       "      <td>2012</td>\n",
       "    </tr>\n",
       "    <tr>\n",
       "      <th>6433</th>\n",
       "      <td>45</td>\n",
       "      <td>2012-10-19</td>\n",
       "      <td>718125.53</td>\n",
       "      <td>56.47</td>\n",
       "      <td>3.969</td>\n",
       "      <td>192.330854</td>\n",
       "      <td>8.667</td>\n",
       "      <td>0</td>\n",
       "      <td>1</td>\n",
       "      <td>726294.945</td>\n",
       "      <td>7.286817e+05</td>\n",
       "      <td>724461.022</td>\n",
       "      <td>11553.297487</td>\n",
       "      <td>10</td>\n",
       "      <td>19</td>\n",
       "      <td>2012</td>\n",
       "    </tr>\n",
       "    <tr>\n",
       "      <th>6434</th>\n",
       "      <td>45</td>\n",
       "      <td>2012-10-26</td>\n",
       "      <td>760281.43</td>\n",
       "      <td>58.85</td>\n",
       "      <td>3.882</td>\n",
       "      <td>192.308899</td>\n",
       "      <td>8.667</td>\n",
       "      <td>0</td>\n",
       "      <td>1</td>\n",
       "      <td>739203.480</td>\n",
       "      <td>7.376238e+05</td>\n",
       "      <td>731900.068</td>\n",
       "      <td>29808.722756</td>\n",
       "      <td>10</td>\n",
       "      <td>26</td>\n",
       "      <td>2012</td>\n",
       "    </tr>\n",
       "  </tbody>\n",
       "</table>\n",
       "<p>6431 rows × 16 columns</p>\n",
       "</div>"
      ],
      "text/plain": [
       "      Store       Date  Weekly_Sales  ...  month  day  year\n",
       "4         1 2010-03-05    1554806.68  ...      3    5  2010\n",
       "5         1 2010-03-12    1439541.59  ...      3   12  2010\n",
       "6         1 2010-03-19    1472515.79  ...      3   19  2010\n",
       "7         1 2010-03-26    1404429.92  ...      3   26  2010\n",
       "8         1 2010-04-02    1594968.28  ...      4    2  2010\n",
       "...     ...        ...           ...  ...    ...  ...   ...\n",
       "6430     45 2012-09-28     713173.95  ...      9   28  2012\n",
       "6431     45 2012-10-05     733455.07  ...     10    5  2012\n",
       "6432     45 2012-10-12     734464.36  ...     10   12  2012\n",
       "6433     45 2012-10-19     718125.53  ...     10   19  2012\n",
       "6434     45 2012-10-26     760281.43  ...     10   26  2012\n",
       "\n",
       "[6431 rows x 16 columns]"
      ]
     },
     "execution_count": 12,
     "metadata": {},
     "output_type": "execute_result"
    }
   ],
   "source": [
    "new_dataset"
   ]
  },
  {
   "cell_type": "code",
   "execution_count": 13,
   "metadata": {},
   "outputs": [],
   "source": [
    "y_ts = TimeSeries.from_group_dataframe(new_dataset,\n",
    "                                       time_col='Date',\n",
    "                                       value_cols=['Weekly_Sales'],\n",
    "                                       group_cols=['Store','Type'])\n",
    "\n",
    "future_cov_ts = TimeSeries.from_group_dataframe(new_dataset,\n",
    "                                                time_col='Date',\n",
    "                                                value_cols=['month','day','year','IsHoliday'],\n",
    "                                                group_cols=['Store','Type'])\n",
    "\n",
    "past_cov_ts = TimeSeries.from_group_dataframe(new_dataset,\n",
    "                                              time_col='Date',\n",
    "                                              value_cols=['ma1_sales','ma2_sales','ma5_sales','std_sales',\n",
    "                                                         'Temperature','Fuel_Price','CPI','Unemployment'],\n",
    "                                              group_cols=['Store','Type']) "
   ]
  },
  {
   "cell_type": "code",
   "execution_count": 14,
   "metadata": {},
   "outputs": [],
   "source": [
    "def train_test_timeseries(y:TimeSeries,\n",
    "                          future_cov:TimeSeries=None,\n",
    "                          past_cov:TimeSeries=None,\n",
    "                          train_size:int=0.80)-> dict:\n",
    "    \n",
    "    train_y, test_y = [],[]\n",
    "    train_future_cov, test_future_cov = [],[]\n",
    "    train_past_cov, test_past_cov = [],[]\n",
    "    \n",
    "    for y_single in y:\n",
    "        train_y_single, test_y_single = y_single.split_before(train_size)\n",
    "        train_y.append(train_y_single)\n",
    "        test_y.append(test_y_single)\n",
    "    for future_cov_single in future_cov:\n",
    "        train_future_cov_single, test_future_cov_single = future_cov_single.split_before(train_size)\n",
    "        train_future_cov.append(train_future_cov_single)\n",
    "        test_future_cov.append(test_future_cov_single)\n",
    "    for past_cov_single in past_cov:\n",
    "        train_past_cov_single, test_past_cov_single = past_cov_single.split_before(train_size)\n",
    "        train_past_cov.append(train_past_cov_single)\n",
    "        test_past_cov.append(test_past_cov_single)\n",
    "\n",
    "    return {'y_timeseries':(train_y, test_y),\n",
    "            'future_cov':(train_future_cov,test_future_cov),\n",
    "            'past_cov':(train_past_cov, test_past_cov)}"
   ]
  },
  {
   "cell_type": "code",
   "execution_count": 15,
   "metadata": {},
   "outputs": [],
   "source": [
    "dateset_for_fitting = train_test_timeseries(y_ts,future_cov=future_cov_ts,\n",
    "                                            past_cov=past_cov_ts)"
   ]
  },
  {
   "cell_type": "code",
   "execution_count": 16,
   "metadata": {},
   "outputs": [],
   "source": [
    "y_train, y_test = dateset_for_fitting['y_timeseries']\n",
    "fut_cov_train, fut_cov_test = dateset_for_fitting['future_cov']\n",
    "past_cov_train, past_cov_test = dateset_for_fitting['past_cov']"
   ]
  },
  {
   "cell_type": "code",
   "execution_count": 24,
   "metadata": {},
   "outputs": [],
   "source": [
    "from darts.models.forecasting.xgboost import XGBModel\n",
    "from darts.models.forecasting.lgbm import LightGBMModel\n",
    "from darts.dataprocessing.transformers.scaler import Scaler"
   ]
  },
  {
   "cell_type": "code",
   "execution_count": 18,
   "metadata": {},
   "outputs": [
    {
     "data": {
      "text/plain": [
       "XGBModel(lags=[-2, -5], lags_past_covariates=[-1, -2, -5], lags_future_covariates=[0], output_chunk_length=1, output_chunk_shift=0, add_encoders=None, likelihood=None, quantiles=None, random_state=None, multi_models=True, use_static_covariates=True)"
      ]
     },
     "execution_count": 18,
     "metadata": {},
     "output_type": "execute_result"
    }
   ],
   "source": [
    "model = XGBModel(lags=[-2,-5],\n",
    "                 lags_future_covariates=[0],\n",
    "                 lags_past_covariates=[-1,-2,-5])\n",
    "model.fit(series=y_train,\n",
    "          past_covariates=past_cov_train,\n",
    "          future_covariates=fut_cov_train)"
   ]
  },
  {
   "cell_type": "code",
   "execution_count": 25,
   "metadata": {},
   "outputs": [
    {
     "name": "stdout",
     "output_type": "stream",
     "text": [
      "[LightGBM] [Info] Auto-choosing row-wise multi-threading, the overhead of testing was 0.000888 seconds.\n",
      "You can set `force_row_wise=true` to remove the overhead.\n",
      "And if memory is not enough, you can set `force_col_wise=true`.\n",
      "[LightGBM] [Info] Total Bins 6684\n",
      "[LightGBM] [Info] Number of data points in the train set: 4857, number of used features: 32\n",
      "[LightGBM] [Info] Start training from score 1047629.729878\n"
     ]
    },
    {
     "data": {
      "text/plain": [
       "LightGBMModel(lags=[-2, -5], lags_past_covariates=[-1, -2, -5], lags_future_covariates=[0], output_chunk_length=1, output_chunk_shift=0, add_encoders=None, likelihood=None, quantiles=None, random_state=None, multi_models=True, use_static_covariates=True, categorical_past_covariates=None, categorical_future_covariates=None, categorical_static_covariates=None)"
      ]
     },
     "execution_count": 25,
     "metadata": {},
     "output_type": "execute_result"
    }
   ],
   "source": [
    "model_lgbm = LightGBMModel(lags=[-2,-5],\n",
    "                 lags_future_covariates=[0],\n",
    "                 lags_past_covariates=[-1,-2,-5])\n",
    "model_lgbm.fit(series=y_train,\n",
    "          past_covariates=past_cov_train,\n",
    "          future_covariates=fut_cov_train)"
   ]
  },
  {
   "cell_type": "code",
   "execution_count": 19,
   "metadata": {},
   "outputs": [
    {
     "name": "stderr",
     "output_type": "stream",
     "text": [
      "`predict()` was called with `n > output_chunk_length`: using auto-regression to forecast the values after `output_chunk_length` points. The model will access `(n - output_chunk_length)` future values of your `past_covariates` (relative to the first predicted time step). To hide this warning, set `show_warnings=False`.\n"
     ]
    }
   ],
   "source": [
    "predictions = model.predict(series=y_train,\n",
    "                            n=len(y_test[0]),\n",
    "                            future_covariates=fut_cov_test,\n",
    "                            past_covariates=past_cov_ts)"
   ]
  },
  {
   "cell_type": "code",
   "execution_count": 26,
   "metadata": {},
   "outputs": [
    {
     "name": "stderr",
     "output_type": "stream",
     "text": [
      "`predict()` was called with `n > output_chunk_length`: using auto-regression to forecast the values after `output_chunk_length` points. The model will access `(n - output_chunk_length)` future values of your `past_covariates` (relative to the first predicted time step). To hide this warning, set `show_warnings=False`.\n"
     ]
    }
   ],
   "source": [
    "predictions_lgbm = model_lgbm.predict(series=y_train,\n",
    "                            n=len(y_test[0]),\n",
    "                            future_covariates=fut_cov_test,\n",
    "                            past_covariates=past_cov_ts)"
   ]
  },
  {
   "cell_type": "code",
   "execution_count": 28,
   "metadata": {},
   "outputs": [
    {
     "data": {
      "text/plain": [
       "<Axes: xlabel='Date'>"
      ]
     },
     "execution_count": 28,
     "metadata": {},
     "output_type": "execute_result"
    },
    {
     "data": {
      "image/png": "[encoded data removed]",
      "text/plain": [
       "<Figure size 640x480 with 1 Axes>"
      ]
     },
     "metadata": {},
     "output_type": "display_data"
    }
   ],
   "source": [
    "predictions[0].plot(label='prediction xgb')\n",
    "predictions_lgbm[0].plot(label='prediction lgbm')\n",
    "y_test[0].plot()"
   ]
  },
  {
   "cell_type": "code",
   "execution_count": 31,
   "metadata": {},
   "outputs": [
    {
     "data": {
      "text/plain": [
       "<Axes: xlabel='Date'>"
      ]
     },
     "execution_count": 31,
     "metadata": {},
     "output_type": "execute_result"
    },
    {
     "data": {
      "image/png": "[encoded data removed]",
      "text/plain": [
       "<Figure size 640x480 with 1 Axes>"
      ]
     },
     "metadata": {},
     "output_type": "display_data"
    }
   ],
   "source": [
    "sum(y_train[1:]).plot(label='training')\n",
    "sum(y_test[1:]).plot()\n",
    "sum(predictions_lgbm[1:]).plot(label='prediction lgbm')\n",
    "sum(predictions[1:]).plot(label='prediction xgb')"
   ]
  },
  {
   "cell_type": "code",
   "execution_count": 32,
   "metadata": {},
   "outputs": [],
   "source": [
    "from darts.metrics.metrics import mape"
   ]
  },
  {
   "cell_type": "code",
   "execution_count": null,
   "metadata": {},
   "outputs": [],
   "source": [
    "lgbm_historical_forecast = model_lgbm.historical_forecasts(series=y_ts,\n",
    "                                                        future_covariates=future_cov_ts,\n",
    "                                                        past_covariates=past_cov_ts,\n",
    "                                                        start=0.5,\n",
    "                                                        forecast_horizon=10, \n",
    "                                                        retrain=True,\n",
    "                                                        last_points_only=False)"
   ]
  },
  {
   "cell_type": "code",
   "execution_count": 39,
   "metadata": {},
   "outputs": [
    {
     "name": "stderr",
     "output_type": "stream",
     "text": [
      "`enable_optimization=True` is ignored because `retrain` is not `False` or `0`. To hide this warning, set `show_warnings=False` or `enable_optimization=False`.\n",
      "`enable_optimization=True` is ignored because `forecast_horizon > model.output_chunk_length`. To hide this warning, set `show_warnings=False` or `enable_optimization=False`.\n",
      "`predict()` was called with `n > output_chunk_length`: using auto-regression to forecast the values after `output_chunk_length` points. The model will access `(n - output_chunk_length)` future values of your `past_covariates` (relative to the first predicted time step). To hide this warning, set `show_warnings=False`.\n"
     ]
    }
   ],
   "source": [
    "xgb_historical_forecast = model.historical_forecasts(series=y_ts,\n",
    "                                                        future_covariates=future_cov_ts,\n",
    "                                                        past_covariates=past_cov_ts,\n",
    "                                                        start=0.5,\n",
    "                                                        forecast_horizon=10, \n",
    "                                                        retrain=True,\n",
    "                                                        last_points_only=False)"
   ]
  },
  {
   "cell_type": "code",
   "execution_count": 40,
   "metadata": {},
   "outputs": [],
   "source": [
    "backtest_xgb = model.backtest(series=y_ts,\n",
    "                                   historical_forecasts=xgb_historical_forecast,\n",
    "                                   metric=mape,\n",
    "                                   last_points_only=False,\n",
    "                                   reduction=None)\n",
    "backtest_lgbm = model_lgbm.backtest(series=y_ts,\n",
    "                                   historical_forecasts=lgbm_historical_forecast,\n",
    "                                   metric=mape,\n",
    "                                   last_points_only=False,\n",
    "                                   reduction=None)"
   ]
  },
  {
   "cell_type": "code",
   "execution_count": 48,
   "metadata": {},
   "outputs": [],
   "source": [
    "means_of_metrics_xgb = [np.mean(metric) for metric in backtest_xgb]\n",
    "means_of_metrics_lgbm = [np.mean(metric) for metric in backtest_lgbm]"
   ]
  },
  {
   "cell_type": "code",
   "execution_count": 49,
   "metadata": {},
   "outputs": [
    {
     "data": {
      "text/plain": [
       "(array([ 3.,  3., 12.,  7.,  7.,  4.,  5.,  3.,  0.,  1.]),\n",
       " array([ 3.32809505,  4.18387565,  5.03965624,  5.89543684,  6.75121743,\n",
       "         7.60699803,  8.46277862,  9.31855922, 10.17433981, 11.03012041,\n",
       "        11.885901  ]),\n",
       " <BarContainer object of 10 artists>)"
      ]
     },
     "execution_count": 49,
     "metadata": {},
     "output_type": "execute_result"
    },
    {
     "data": {
      "image/png": "[encoded data removed]",
      "text/plain": [
       "<Figure size 640x480 with 1 Axes>"
      ]
     },
     "metadata": {},
     "output_type": "display_data"
    }
   ],
   "source": [
    "plt.hist(means_of_metrics_xgb)"
   ]
  },
  {
   "cell_type": "code",
   "execution_count": 50,
   "metadata": {},
   "outputs": [
    {
     "data": {
      "text/plain": [
       "(array([ 2.,  6.,  2., 15.,  8.,  5.,  1.,  5.,  0.,  1.]),\n",
       " array([ 2.77544937,  3.87443078,  4.97341219,  6.0723936 ,  7.17137501,\n",
       "         8.27035642,  9.36933782, 10.46831923, 11.56730064, 12.66628205,\n",
       "        13.76526346]),\n",
       " <BarContainer object of 10 artists>)"
      ]
     },
     "execution_count": 50,
     "metadata": {},
     "output_type": "execute_result"
    },
    {
     "data": {
      "image/png": "[encoded data removed]",
      "text/plain": [
       "<Figure size 640x480 with 1 Axes>"
      ]
     },
     "metadata": {},
     "output_type": "display_data"
    }
   ],
   "source": [
    "plt.hist(means_of_metrics_lgbm)"
   ]
  },
  {
   "cell_type": "code",
   "execution_count": 46,
   "metadata": {},
   "outputs": [
    {
     "data": {
      "text/plain": [
       "6.747045483588976"
      ]
     },
     "execution_count": 46,
     "metadata": {},
     "output_type": "execute_result"
    }
   ],
   "source": [
    "np.mean([np.mean(metric) for metric in backtest_xgb])"
   ]
  },
  {
   "cell_type": "code",
   "execution_count": 47,
   "metadata": {},
   "outputs": [
    {
     "data": {
      "text/plain": [
       "7.232146769342244"
      ]
     },
     "execution_count": 47,
     "metadata": {},
     "output_type": "execute_result"
    }
   ],
   "source": [
    "np.mean([np.mean(metric) for metric in backtest_lgbm])"
   ]
  },
  {
   "cell_type": "markdown",
   "metadata": {},
   "source": [
    "Total model predictions performance"
   ]
  },
  {
   "cell_type": "code",
   "execution_count": 51,
   "metadata": {},
   "outputs": [],
   "source": [
    "total_sales_predictions_xgb = sum(predictions[1:])\n",
    "total_sales_predictions_lgbm = sum(predictions_lgbm[1:])"
   ]
  },
  {
   "cell_type": "code",
   "execution_count": 53,
   "metadata": {},
   "outputs": [],
   "source": [
    "mape_xgb = mape(actual_series=sum(y_test[1:]),\n",
    "                pred_series=total_sales_predictions_xgb)\n",
    "mape_lgbm = mape(actual_series=sum(y_test[1:]),\n",
    "                pred_series=total_sales_predictions_lgbm)"
   ]
  },
  {
   "cell_type": "code",
   "execution_count": 54,
   "metadata": {},
   "outputs": [
    {
     "name": "stdout",
     "output_type": "stream",
     "text": [
      "XGB MAPE%\n",
      "2.6393264644295527\n",
      "=============================\n",
      "LGBM MAPE%\n",
      "2.5887141565130225\n"
     ]
    }
   ],
   "source": [
    "print('XGB MAPE%')\n",
    "print(mape_xgb)\n",
    "print('=============================')\n",
    "print('LGBM MAPE%')\n",
    "print(mape_lgbm)"
   ]
  }
 ],
 "metadata": {
  "kernelspec": {
   "display_name": "env",
   "language": "python",
   "name": "python3"
  },
  "language_info": {
   "codemirror_mode": {
    "name": "ipython",
    "version": 3
   },
   "file_extension": ".py",
   "mimetype": "text/x-python",
   "name": "python",
   "nbconvert_exporter": "python",
   "pygments_lexer": "ipython3",
   "version": "3.12.4"
  }
 },
 "nbformat": 4,
 "nbformat_minor": 2
}
